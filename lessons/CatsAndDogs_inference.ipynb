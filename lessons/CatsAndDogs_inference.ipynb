{
 "cells": [
  {
   "cell_type": "code",
   "execution_count": 7,
   "metadata": {},
   "outputs": [],
   "source": [
    "\n",
    "from keras.models import load_model\n",
    "from keras.preprocessing import image\n",
    "import numpy as np\n",
    "import matplotlib.pyplot as plt\n",
    "import os"
   ]
  },
  {
   "cell_type": "code",
   "execution_count": 104,
   "metadata": {},
   "outputs": [],
   "source": [
    "# image folder\n",
    "folder_path = 'images\\CatsAndDogs_Cropped'\n",
    "# path to model\n",
    "model_path = '1656952786_1'\n",
    "# dimensions of images\n",
    "img_width, img_height = 224, 224\n",
    "# classes\n",
    "classes = [\"Cat\", \"Dog\"]"
   ]
  },
  {
   "cell_type": "code",
   "execution_count": 3,
   "metadata": {},
   "outputs": [],
   "source": [
    "# load the trained model\n",
    "model = load_model(model_path)"
   ]
  },
  {
   "cell_type": "code",
   "execution_count": 129,
   "metadata": {},
   "outputs": [],
   "source": [
    "# load all images into a list\n",
    "images = []\n",
    "images_unexpanded = []\n",
    "for img in os.listdir(folder_path):\n",
    "    img = os.path.join(folder_path, img)\n",
    "    img = image.load_img(img, target_size=(img_width, img_height))\n",
    "    img = image.img_to_array(img)\n",
    "    img = (img/255)\n",
    "    images_unexpanded.append(img)\n",
    "    img = np.expand_dims(img, axis=0)\n",
    "    images.append(img)"
   ]
  },
  {
   "cell_type": "code",
   "execution_count": 107,
   "metadata": {},
   "outputs": [
    {
     "name": "stdout",
     "output_type": "stream",
     "text": [
      "(29, 1, 224, 224, 3)\n"
     ]
    }
   ],
   "source": [
    "print(np.shape(images))\n"
   ]
  },
  {
   "cell_type": "code",
   "execution_count": null,
   "metadata": {},
   "outputs": [],
   "source": [
    "# stack up images list to pass for prediction\n",
    "for i, img in enumerate(images):\n",
    "    pred = model.predict(img)\n",
    "    #print(classes[np.argmax(pred)])\n",
    "\n",
    "    fig = plt.figure()\n",
    "    title = f\"{classes[np.argmax(pred)]}  {round(np.max(pred)*100,2)} %\"\n",
    "    plt.title(title)\n",
    "    plt.axis('off')\n",
    "    plt.imshow(images_unexpanded[i])\n",
    "    plt.savefig(f\"images/CatsAndDogs_results/cropped/{i+1}.jpg\", bbox_inches='tight')\n",
    "    plt.close(fig)\n",
    "    "
   ]
  }
 ],
 "metadata": {
  "kernelspec": {
   "display_name": "Python 3.9.13 ('base')",
   "language": "python",
   "name": "python3"
  },
  "language_info": {
   "codemirror_mode": {
    "name": "ipython",
    "version": 3
   },
   "file_extension": ".py",
   "mimetype": "text/x-python",
   "name": "python",
   "nbconvert_exporter": "python",
   "pygments_lexer": "ipython3",
   "version": "3.9.13"
  },
  "orig_nbformat": 4,
  "vscode": {
   "interpreter": {
    "hash": "85f0bfc969dec7683097ce5d461b864d7cdb3e843c8d064db6cce67284ee9526"
   }
  }
 },
 "nbformat": 4,
 "nbformat_minor": 2
}
